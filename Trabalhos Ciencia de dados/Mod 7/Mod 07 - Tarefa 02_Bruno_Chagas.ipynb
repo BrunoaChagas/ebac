{
 "cells": [
  {
   "cell_type": "markdown",
   "metadata": {},
   "source": [
    "# Módulo 07 - Tarefa 02\n",
    "\n",
    "#### 1) Carregue a base e garanta que a base está como deveria.\n",
    "\n",
    "Considere a base que você ajustou na lição passada. Carregue-a. Caso ainda haja alguma pendência, ajuste - lembre-se de que o scikitlearn não recebe variáveis em formato string, somente numéricas, e não aceita '*missings*'. \n",
    "\n",
    "- Separe 70% da base para treinamento e 30% para validação. Cada uma dessas partes terá dois objetos, um armazenando a variável resposta ```mau```e outro armazenando as variáveis explicativas (lembrando: sem variáveis string, já com as dummies)."
   ]
  },
  {
   "cell_type": "code",
   "execution_count": 3,
   "metadata": {},
   "outputs": [
    {
     "name": "stdout",
     "output_type": "stream",
     "text": [
      "<class 'pandas.core.frame.DataFrame'>\n",
      "RangeIndex: 6770 entries, 0 to 6769\n",
      "Data columns (total 33 columns):\n",
      " #   Column                                  Non-Null Count  Dtype  \n",
      "---  ------                                  --------------  -----  \n",
      " 0   qtd_filhos                              6770 non-null   int64  \n",
      " 1   idade                                   6770 non-null   float64\n",
      " 2   tempo_emprego                           6770 non-null   float64\n",
      " 3   possui_celular                          6770 non-null   int64  \n",
      " 4   possui_fone_comercial                   6770 non-null   int64  \n",
      " 5   possui_fone                             6770 non-null   int64  \n",
      " 6   possui_email                            6770 non-null   int64  \n",
      " 7   qt_pessoas_residencia                   6770 non-null   float64\n",
      " 8   mau                                     6770 non-null   bool   \n",
      " 9   sexo_M                                  6770 non-null   bool   \n",
      " 10  posse_de_veiculo_Y                      6770 non-null   bool   \n",
      " 11  posse_de_imovel_Y                       6770 non-null   bool   \n",
      " 12  tipo_renda_Commercial associate         6770 non-null   bool   \n",
      " 13  tipo_renda_Pensioner                    6770 non-null   bool   \n",
      " 14  tipo_renda_State servant                6770 non-null   bool   \n",
      " 15  tipo_renda_Student                      6770 non-null   bool   \n",
      " 16  tipo_renda_Working                      6770 non-null   bool   \n",
      " 17  educacao_Academic degree                6770 non-null   bool   \n",
      " 18  educacao_Higher education               6770 non-null   bool   \n",
      " 19  educacao_Incomplete higher              6770 non-null   bool   \n",
      " 20  educacao_Lower secondary                6770 non-null   bool   \n",
      " 21  educacao_Secondary / secondary special  6770 non-null   bool   \n",
      " 22  estado_civil_Civil marriage             6770 non-null   bool   \n",
      " 23  estado_civil_Married                    6770 non-null   bool   \n",
      " 24  estado_civil_Separated                  6770 non-null   bool   \n",
      " 25  estado_civil_Single / not married       6770 non-null   bool   \n",
      " 26  estado_civil_Widow                      6770 non-null   bool   \n",
      " 27  tipo_residencia_Co-op apartment         6770 non-null   bool   \n",
      " 28  tipo_residencia_House / apartment       6770 non-null   bool   \n",
      " 29  tipo_residencia_Municipal apartment     6770 non-null   bool   \n",
      " 30  tipo_residencia_Office apartment        6770 non-null   bool   \n",
      " 31  tipo_residencia_Rented apartment        6770 non-null   bool   \n",
      " 32  tipo_residencia_With parents            6770 non-null   bool   \n",
      "dtypes: bool(25), float64(3), int64(5)\n",
      "memory usage: 588.5 KB\n",
      "None\n"
     ]
    },
    {
     "data": {
      "text/html": [
       "<div>\n",
       "<style scoped>\n",
       "    .dataframe tbody tr th:only-of-type {\n",
       "        vertical-align: middle;\n",
       "    }\n",
       "\n",
       "    .dataframe tbody tr th {\n",
       "        vertical-align: top;\n",
       "    }\n",
       "\n",
       "    .dataframe thead th {\n",
       "        text-align: right;\n",
       "    }\n",
       "</style>\n",
       "<table border=\"1\" class=\"dataframe\">\n",
       "  <thead>\n",
       "    <tr style=\"text-align: right;\">\n",
       "      <th></th>\n",
       "      <th>qtd_filhos</th>\n",
       "      <th>idade</th>\n",
       "      <th>tempo_emprego</th>\n",
       "      <th>possui_celular</th>\n",
       "      <th>possui_fone_comercial</th>\n",
       "      <th>possui_fone</th>\n",
       "      <th>possui_email</th>\n",
       "      <th>qt_pessoas_residencia</th>\n",
       "      <th>mau</th>\n",
       "      <th>sexo_M</th>\n",
       "      <th>...</th>\n",
       "      <th>estado_civil_Married</th>\n",
       "      <th>estado_civil_Separated</th>\n",
       "      <th>estado_civil_Single / not married</th>\n",
       "      <th>estado_civil_Widow</th>\n",
       "      <th>tipo_residencia_Co-op apartment</th>\n",
       "      <th>tipo_residencia_House / apartment</th>\n",
       "      <th>tipo_residencia_Municipal apartment</th>\n",
       "      <th>tipo_residencia_Office apartment</th>\n",
       "      <th>tipo_residencia_Rented apartment</th>\n",
       "      <th>tipo_residencia_With parents</th>\n",
       "    </tr>\n",
       "  </thead>\n",
       "  <tbody>\n",
       "    <tr>\n",
       "      <th>0</th>\n",
       "      <td>0</td>\n",
       "      <td>58.832877</td>\n",
       "      <td>3.106849</td>\n",
       "      <td>1</td>\n",
       "      <td>0</td>\n",
       "      <td>0</td>\n",
       "      <td>0</td>\n",
       "      <td>2.0</td>\n",
       "      <td>False</td>\n",
       "      <td>True</td>\n",
       "      <td>...</td>\n",
       "      <td>True</td>\n",
       "      <td>False</td>\n",
       "      <td>False</td>\n",
       "      <td>False</td>\n",
       "      <td>False</td>\n",
       "      <td>True</td>\n",
       "      <td>False</td>\n",
       "      <td>False</td>\n",
       "      <td>False</td>\n",
       "      <td>False</td>\n",
       "    </tr>\n",
       "    <tr>\n",
       "      <th>1</th>\n",
       "      <td>0</td>\n",
       "      <td>52.356164</td>\n",
       "      <td>8.358904</td>\n",
       "      <td>1</td>\n",
       "      <td>0</td>\n",
       "      <td>1</td>\n",
       "      <td>1</td>\n",
       "      <td>1.0</td>\n",
       "      <td>False</td>\n",
       "      <td>False</td>\n",
       "      <td>...</td>\n",
       "      <td>False</td>\n",
       "      <td>False</td>\n",
       "      <td>True</td>\n",
       "      <td>False</td>\n",
       "      <td>False</td>\n",
       "      <td>True</td>\n",
       "      <td>False</td>\n",
       "      <td>False</td>\n",
       "      <td>False</td>\n",
       "      <td>False</td>\n",
       "    </tr>\n",
       "    <tr>\n",
       "      <th>2</th>\n",
       "      <td>0</td>\n",
       "      <td>46.224658</td>\n",
       "      <td>2.106849</td>\n",
       "      <td>1</td>\n",
       "      <td>1</td>\n",
       "      <td>1</td>\n",
       "      <td>1</td>\n",
       "      <td>2.0</td>\n",
       "      <td>False</td>\n",
       "      <td>True</td>\n",
       "      <td>...</td>\n",
       "      <td>True</td>\n",
       "      <td>False</td>\n",
       "      <td>False</td>\n",
       "      <td>False</td>\n",
       "      <td>False</td>\n",
       "      <td>True</td>\n",
       "      <td>False</td>\n",
       "      <td>False</td>\n",
       "      <td>False</td>\n",
       "      <td>False</td>\n",
       "    </tr>\n",
       "    <tr>\n",
       "      <th>3</th>\n",
       "      <td>0</td>\n",
       "      <td>29.230137</td>\n",
       "      <td>3.021918</td>\n",
       "      <td>1</td>\n",
       "      <td>0</td>\n",
       "      <td>0</td>\n",
       "      <td>0</td>\n",
       "      <td>2.0</td>\n",
       "      <td>False</td>\n",
       "      <td>False</td>\n",
       "      <td>...</td>\n",
       "      <td>True</td>\n",
       "      <td>False</td>\n",
       "      <td>False</td>\n",
       "      <td>False</td>\n",
       "      <td>False</td>\n",
       "      <td>True</td>\n",
       "      <td>False</td>\n",
       "      <td>False</td>\n",
       "      <td>False</td>\n",
       "      <td>False</td>\n",
       "    </tr>\n",
       "    <tr>\n",
       "      <th>4</th>\n",
       "      <td>0</td>\n",
       "      <td>27.482192</td>\n",
       "      <td>4.024658</td>\n",
       "      <td>1</td>\n",
       "      <td>0</td>\n",
       "      <td>1</td>\n",
       "      <td>0</td>\n",
       "      <td>2.0</td>\n",
       "      <td>False</td>\n",
       "      <td>False</td>\n",
       "      <td>...</td>\n",
       "      <td>True</td>\n",
       "      <td>False</td>\n",
       "      <td>False</td>\n",
       "      <td>False</td>\n",
       "      <td>False</td>\n",
       "      <td>True</td>\n",
       "      <td>False</td>\n",
       "      <td>False</td>\n",
       "      <td>False</td>\n",
       "      <td>False</td>\n",
       "    </tr>\n",
       "    <tr>\n",
       "      <th>...</th>\n",
       "      <td>...</td>\n",
       "      <td>...</td>\n",
       "      <td>...</td>\n",
       "      <td>...</td>\n",
       "      <td>...</td>\n",
       "      <td>...</td>\n",
       "      <td>...</td>\n",
       "      <td>...</td>\n",
       "      <td>...</td>\n",
       "      <td>...</td>\n",
       "      <td>...</td>\n",
       "      <td>...</td>\n",
       "      <td>...</td>\n",
       "      <td>...</td>\n",
       "      <td>...</td>\n",
       "      <td>...</td>\n",
       "      <td>...</td>\n",
       "      <td>...</td>\n",
       "      <td>...</td>\n",
       "      <td>...</td>\n",
       "      <td>...</td>\n",
       "    </tr>\n",
       "    <tr>\n",
       "      <th>6765</th>\n",
       "      <td>1</td>\n",
       "      <td>34.857534</td>\n",
       "      <td>3.101370</td>\n",
       "      <td>1</td>\n",
       "      <td>1</td>\n",
       "      <td>1</td>\n",
       "      <td>0</td>\n",
       "      <td>1.0</td>\n",
       "      <td>True</td>\n",
       "      <td>False</td>\n",
       "      <td>...</td>\n",
       "      <td>False</td>\n",
       "      <td>False</td>\n",
       "      <td>True</td>\n",
       "      <td>False</td>\n",
       "      <td>False</td>\n",
       "      <td>True</td>\n",
       "      <td>False</td>\n",
       "      <td>False</td>\n",
       "      <td>False</td>\n",
       "      <td>False</td>\n",
       "    </tr>\n",
       "    <tr>\n",
       "      <th>6766</th>\n",
       "      <td>0</td>\n",
       "      <td>54.109589</td>\n",
       "      <td>9.884932</td>\n",
       "      <td>1</td>\n",
       "      <td>0</td>\n",
       "      <td>0</td>\n",
       "      <td>0</td>\n",
       "      <td>2.0</td>\n",
       "      <td>True</td>\n",
       "      <td>False</td>\n",
       "      <td>...</td>\n",
       "      <td>False</td>\n",
       "      <td>False</td>\n",
       "      <td>False</td>\n",
       "      <td>False</td>\n",
       "      <td>False</td>\n",
       "      <td>True</td>\n",
       "      <td>False</td>\n",
       "      <td>False</td>\n",
       "      <td>False</td>\n",
       "      <td>False</td>\n",
       "    </tr>\n",
       "    <tr>\n",
       "      <th>6767</th>\n",
       "      <td>0</td>\n",
       "      <td>43.389041</td>\n",
       "      <td>7.380822</td>\n",
       "      <td>1</td>\n",
       "      <td>1</td>\n",
       "      <td>1</td>\n",
       "      <td>0</td>\n",
       "      <td>2.0</td>\n",
       "      <td>True</td>\n",
       "      <td>False</td>\n",
       "      <td>...</td>\n",
       "      <td>True</td>\n",
       "      <td>False</td>\n",
       "      <td>False</td>\n",
       "      <td>False</td>\n",
       "      <td>False</td>\n",
       "      <td>True</td>\n",
       "      <td>False</td>\n",
       "      <td>False</td>\n",
       "      <td>False</td>\n",
       "      <td>False</td>\n",
       "    </tr>\n",
       "    <tr>\n",
       "      <th>6768</th>\n",
       "      <td>0</td>\n",
       "      <td>30.005479</td>\n",
       "      <td>9.800000</td>\n",
       "      <td>1</td>\n",
       "      <td>1</td>\n",
       "      <td>0</td>\n",
       "      <td>0</td>\n",
       "      <td>2.0</td>\n",
       "      <td>True</td>\n",
       "      <td>True</td>\n",
       "      <td>...</td>\n",
       "      <td>True</td>\n",
       "      <td>False</td>\n",
       "      <td>False</td>\n",
       "      <td>False</td>\n",
       "      <td>False</td>\n",
       "      <td>True</td>\n",
       "      <td>False</td>\n",
       "      <td>False</td>\n",
       "      <td>False</td>\n",
       "      <td>False</td>\n",
       "    </tr>\n",
       "    <tr>\n",
       "      <th>6769</th>\n",
       "      <td>0</td>\n",
       "      <td>33.936986</td>\n",
       "      <td>3.630137</td>\n",
       "      <td>1</td>\n",
       "      <td>0</td>\n",
       "      <td>1</td>\n",
       "      <td>1</td>\n",
       "      <td>2.0</td>\n",
       "      <td>True</td>\n",
       "      <td>False</td>\n",
       "      <td>...</td>\n",
       "      <td>True</td>\n",
       "      <td>False</td>\n",
       "      <td>False</td>\n",
       "      <td>False</td>\n",
       "      <td>False</td>\n",
       "      <td>True</td>\n",
       "      <td>False</td>\n",
       "      <td>False</td>\n",
       "      <td>False</td>\n",
       "      <td>False</td>\n",
       "    </tr>\n",
       "  </tbody>\n",
       "</table>\n",
       "<p>6770 rows × 33 columns</p>\n",
       "</div>"
      ],
      "text/plain": [
       "      qtd_filhos      idade  tempo_emprego  possui_celular  \\\n",
       "0              0  58.832877       3.106849               1   \n",
       "1              0  52.356164       8.358904               1   \n",
       "2              0  46.224658       2.106849               1   \n",
       "3              0  29.230137       3.021918               1   \n",
       "4              0  27.482192       4.024658               1   \n",
       "...          ...        ...            ...             ...   \n",
       "6765           1  34.857534       3.101370               1   \n",
       "6766           0  54.109589       9.884932               1   \n",
       "6767           0  43.389041       7.380822               1   \n",
       "6768           0  30.005479       9.800000               1   \n",
       "6769           0  33.936986       3.630137               1   \n",
       "\n",
       "      possui_fone_comercial  possui_fone  possui_email  qt_pessoas_residencia  \\\n",
       "0                         0            0             0                    2.0   \n",
       "1                         0            1             1                    1.0   \n",
       "2                         1            1             1                    2.0   \n",
       "3                         0            0             0                    2.0   \n",
       "4                         0            1             0                    2.0   \n",
       "...                     ...          ...           ...                    ...   \n",
       "6765                      1            1             0                    1.0   \n",
       "6766                      0            0             0                    2.0   \n",
       "6767                      1            1             0                    2.0   \n",
       "6768                      1            0             0                    2.0   \n",
       "6769                      0            1             1                    2.0   \n",
       "\n",
       "        mau  sexo_M  ...  estado_civil_Married  estado_civil_Separated  \\\n",
       "0     False    True  ...                  True                   False   \n",
       "1     False   False  ...                 False                   False   \n",
       "2     False    True  ...                  True                   False   \n",
       "3     False   False  ...                  True                   False   \n",
       "4     False   False  ...                  True                   False   \n",
       "...     ...     ...  ...                   ...                     ...   \n",
       "6765   True   False  ...                 False                   False   \n",
       "6766   True   False  ...                 False                   False   \n",
       "6767   True   False  ...                  True                   False   \n",
       "6768   True    True  ...                  True                   False   \n",
       "6769   True   False  ...                  True                   False   \n",
       "\n",
       "      estado_civil_Single / not married  estado_civil_Widow  \\\n",
       "0                                 False               False   \n",
       "1                                  True               False   \n",
       "2                                 False               False   \n",
       "3                                 False               False   \n",
       "4                                 False               False   \n",
       "...                                 ...                 ...   \n",
       "6765                               True               False   \n",
       "6766                              False               False   \n",
       "6767                              False               False   \n",
       "6768                              False               False   \n",
       "6769                              False               False   \n",
       "\n",
       "      tipo_residencia_Co-op apartment  tipo_residencia_House / apartment  \\\n",
       "0                               False                               True   \n",
       "1                               False                               True   \n",
       "2                               False                               True   \n",
       "3                               False                               True   \n",
       "4                               False                               True   \n",
       "...                               ...                                ...   \n",
       "6765                            False                               True   \n",
       "6766                            False                               True   \n",
       "6767                            False                               True   \n",
       "6768                            False                               True   \n",
       "6769                            False                               True   \n",
       "\n",
       "      tipo_residencia_Municipal apartment  tipo_residencia_Office apartment  \\\n",
       "0                                   False                             False   \n",
       "1                                   False                             False   \n",
       "2                                   False                             False   \n",
       "3                                   False                             False   \n",
       "4                                   False                             False   \n",
       "...                                   ...                               ...   \n",
       "6765                                False                             False   \n",
       "6766                                False                             False   \n",
       "6767                                False                             False   \n",
       "6768                                False                             False   \n",
       "6769                                False                             False   \n",
       "\n",
       "      tipo_residencia_Rented apartment  tipo_residencia_With parents  \n",
       "0                                False                         False  \n",
       "1                                False                         False  \n",
       "2                                False                         False  \n",
       "3                                False                         False  \n",
       "4                                False                         False  \n",
       "...                                ...                           ...  \n",
       "6765                             False                         False  \n",
       "6766                             False                         False  \n",
       "6767                             False                         False  \n",
       "6768                             False                         False  \n",
       "6769                             False                         False  \n",
       "\n",
       "[6770 rows x 33 columns]"
      ]
     },
     "execution_count": 3,
     "metadata": {},
     "output_type": "execute_result"
    }
   ],
   "source": [
    "import numpy as np\n",
    "import pandas as pd\n",
    "import matplotlib.pyplot as plt\n",
    "\n",
    "from sklearn.model_selection import train_test_split\n",
    "\n",
    "from sklearn.tree import DecisionTreeClassifier\n",
    "from sklearn.tree import plot_tree\n",
    "\n",
    "from sklearn.metrics import confusion_matrix, ConfusionMatrixDisplay\n",
    "from sklearn.metrics import accuracy_score\n",
    "\n",
    "%matplotlib inline\n",
    "\n",
    "df = pd.read_csv('demo01_dummies.csv')\n",
    "df = df.set_index('Unnamed: 0').reset_index(drop=True)\n",
    "print(df.info())\n",
    "df"
   ]
  },
  {
   "cell_type": "code",
   "execution_count": 5,
   "metadata": {},
   "outputs": [
    {
     "name": "stdout",
     "output_type": "stream",
     "text": [
      "Quantidade de linhas e colunas das variáveis explicativas (X): (6770, 32) \n",
      "\n",
      "Quantidade de linhas da variável resposta (y): 6770 \n",
      "\n",
      "\n",
      "Quantidade de linhas e colunas de X_train (70%): (4739, 32)\n",
      "Quantidade de linhas e colunas de X_test (30%): (2031, 32) \n",
      "\n",
      "Quantidade de linhas de y_train (70%): 4739\n",
      "Quantidade de linhas de y_test (30%): 2031\n"
     ]
    }
   ],
   "source": [
    "# X = Variáveis explicativas:\n",
    "X = df.drop(columns='mau')\n",
    "print('Quantidade de linhas e colunas das variáveis explicativas (X):', \n",
    "      X.shape, '\\n')\n",
    "\n",
    "# y = Variável resposta:\n",
    "y = df.mau\n",
    "print('Quantidade de linhas da variável resposta (y):', \n",
    "      len(y), '\\n\\n')\n",
    "\n",
    "# Separando a base em 70% para treinamento e 30% para validação:\n",
    "X_train, X_test, y_train, y_test = train_test_split(X, \n",
    "                                                    y, \n",
    "                                                    test_size=0.3, \n",
    "                                                    random_state=100)\n",
    "\n",
    "print('Quantidade de linhas e colunas de X_train (70%):', \n",
    "      X_train.shape)\n",
    "print('Quantidade de linhas e colunas de X_test (30%):', \n",
    "      X_test.shape, '\\n')\n",
    "\n",
    "print('Quantidade de linhas de y_train (70%):', \n",
    "      len(y_train))\n",
    "print('Quantidade de linhas de y_test (30%):', \n",
    "      len(y_test))"
   ]
  },
  {
   "cell_type": "markdown",
   "metadata": {},
   "source": [
    "#### 2) Vamos para o modelo:\n",
    "\n",
    "1. Defina um objeto com a função da árvore de decisão vista em aula.\n",
    "2. Treine o modelo com os dados que você separou para treinamento.\n",
    "3. Visualize a árvore. Talvez você queira aumentar um pouco a figura.\n",
    "4. Produza uma visualização da matriz de classificação (ou matriz de confusão) - coloque os rótulos como \"aprovados\" e \"reprovados\" - pois afinal de contas, são essas as decisões que se podem tomar com propostas de crédito.\n",
    "5. Calcule a acurácia na base de treinamento"
   ]
  },
  {
   "cell_type": "code",
   "execution_count": 6,
   "metadata": {},
   "outputs": [],
   "source": [
    "clf = DecisionTreeClassifier(random_state=100)\n",
    "clf = clf.fit(X=X_train, \n",
    "              y=y_train)"
   ]
  },
  {
   "cell_type": "code",
   "execution_count": 7,
   "metadata": {},
   "outputs": [
    {
     "data": {
      "text/html": [
       "<style>#sk-container-id-1 {color: black;}#sk-container-id-1 pre{padding: 0;}#sk-container-id-1 div.sk-toggleable {background-color: white;}#sk-container-id-1 label.sk-toggleable__label {cursor: pointer;display: block;width: 100%;margin-bottom: 0;padding: 0.3em;box-sizing: border-box;text-align: center;}#sk-container-id-1 label.sk-toggleable__label-arrow:before {content: \"▸\";float: left;margin-right: 0.25em;color: #696969;}#sk-container-id-1 label.sk-toggleable__label-arrow:hover:before {color: black;}#sk-container-id-1 div.sk-estimator:hover label.sk-toggleable__label-arrow:before {color: black;}#sk-container-id-1 div.sk-toggleable__content {max-height: 0;max-width: 0;overflow: hidden;text-align: left;background-color: #f0f8ff;}#sk-container-id-1 div.sk-toggleable__content pre {margin: 0.2em;color: black;border-radius: 0.25em;background-color: #f0f8ff;}#sk-container-id-1 input.sk-toggleable__control:checked~div.sk-toggleable__content {max-height: 200px;max-width: 100%;overflow: auto;}#sk-container-id-1 input.sk-toggleable__control:checked~label.sk-toggleable__label-arrow:before {content: \"▾\";}#sk-container-id-1 div.sk-estimator input.sk-toggleable__control:checked~label.sk-toggleable__label {background-color: #d4ebff;}#sk-container-id-1 div.sk-label input.sk-toggleable__control:checked~label.sk-toggleable__label {background-color: #d4ebff;}#sk-container-id-1 input.sk-hidden--visually {border: 0;clip: rect(1px 1px 1px 1px);clip: rect(1px, 1px, 1px, 1px);height: 1px;margin: -1px;overflow: hidden;padding: 0;position: absolute;width: 1px;}#sk-container-id-1 div.sk-estimator {font-family: monospace;background-color: #f0f8ff;border: 1px dotted black;border-radius: 0.25em;box-sizing: border-box;margin-bottom: 0.5em;}#sk-container-id-1 div.sk-estimator:hover {background-color: #d4ebff;}#sk-container-id-1 div.sk-parallel-item::after {content: \"\";width: 100%;border-bottom: 1px solid gray;flex-grow: 1;}#sk-container-id-1 div.sk-label:hover label.sk-toggleable__label {background-color: #d4ebff;}#sk-container-id-1 div.sk-serial::before {content: \"\";position: absolute;border-left: 1px solid gray;box-sizing: border-box;top: 0;bottom: 0;left: 50%;z-index: 0;}#sk-container-id-1 div.sk-serial {display: flex;flex-direction: column;align-items: center;background-color: white;padding-right: 0.2em;padding-left: 0.2em;position: relative;}#sk-container-id-1 div.sk-item {position: relative;z-index: 1;}#sk-container-id-1 div.sk-parallel {display: flex;align-items: stretch;justify-content: center;background-color: white;position: relative;}#sk-container-id-1 div.sk-item::before, #sk-container-id-1 div.sk-parallel-item::before {content: \"\";position: absolute;border-left: 1px solid gray;box-sizing: border-box;top: 0;bottom: 0;left: 50%;z-index: -1;}#sk-container-id-1 div.sk-parallel-item {display: flex;flex-direction: column;z-index: 1;position: relative;background-color: white;}#sk-container-id-1 div.sk-parallel-item:first-child::after {align-self: flex-end;width: 50%;}#sk-container-id-1 div.sk-parallel-item:last-child::after {align-self: flex-start;width: 50%;}#sk-container-id-1 div.sk-parallel-item:only-child::after {width: 0;}#sk-container-id-1 div.sk-dashed-wrapped {border: 1px dashed gray;margin: 0 0.4em 0.5em 0.4em;box-sizing: border-box;padding-bottom: 0.4em;background-color: white;}#sk-container-id-1 div.sk-label label {font-family: monospace;font-weight: bold;display: inline-block;line-height: 1.2em;}#sk-container-id-1 div.sk-label-container {text-align: center;}#sk-container-id-1 div.sk-container {/* jupyter's `normalize.less` sets `[hidden] { display: none; }` but bootstrap.min.css set `[hidden] { display: none !important; }` so we also need the `!important` here to be able to override the default hidden behavior on the sphinx rendered scikit-learn.org. See: https://github.com/scikit-learn/scikit-learn/issues/21755 */display: inline-block !important;position: relative;}#sk-container-id-1 div.sk-text-repr-fallback {display: none;}</style><div id=\"sk-container-id-1\" class=\"sk-top-container\"><div class=\"sk-text-repr-fallback\"><pre>DecisionTreeClassifier(random_state=100)</pre><b>In a Jupyter environment, please rerun this cell to show the HTML representation or trust the notebook. <br />On GitHub, the HTML representation is unable to render, please try loading this page with nbviewer.org.</b></div><div class=\"sk-container\" hidden><div class=\"sk-item\"><div class=\"sk-estimator sk-toggleable\"><input class=\"sk-toggleable__control sk-hidden--visually\" id=\"sk-estimator-id-1\" type=\"checkbox\" checked><label for=\"sk-estimator-id-1\" class=\"sk-toggleable__label sk-toggleable__label-arrow\">DecisionTreeClassifier</label><div class=\"sk-toggleable__content\"><pre>DecisionTreeClassifier(random_state=100)</pre></div></div></div></div></div>"
      ],
      "text/plain": [
       "DecisionTreeClassifier(random_state=100)"
      ]
     },
     "execution_count": 7,
     "metadata": {},
     "output_type": "execute_result"
    }
   ],
   "source": [
    "clf = DecisionTreeClassifier(random_state=100)\n",
    "clf"
   ]
  },
  {
   "cell_type": "code",
   "execution_count": 8,
   "metadata": {},
   "outputs": [
    {
     "data": {
      "text/html": [
       "<style>#sk-container-id-2 {color: black;}#sk-container-id-2 pre{padding: 0;}#sk-container-id-2 div.sk-toggleable {background-color: white;}#sk-container-id-2 label.sk-toggleable__label {cursor: pointer;display: block;width: 100%;margin-bottom: 0;padding: 0.3em;box-sizing: border-box;text-align: center;}#sk-container-id-2 label.sk-toggleable__label-arrow:before {content: \"▸\";float: left;margin-right: 0.25em;color: #696969;}#sk-container-id-2 label.sk-toggleable__label-arrow:hover:before {color: black;}#sk-container-id-2 div.sk-estimator:hover label.sk-toggleable__label-arrow:before {color: black;}#sk-container-id-2 div.sk-toggleable__content {max-height: 0;max-width: 0;overflow: hidden;text-align: left;background-color: #f0f8ff;}#sk-container-id-2 div.sk-toggleable__content pre {margin: 0.2em;color: black;border-radius: 0.25em;background-color: #f0f8ff;}#sk-container-id-2 input.sk-toggleable__control:checked~div.sk-toggleable__content {max-height: 200px;max-width: 100%;overflow: auto;}#sk-container-id-2 input.sk-toggleable__control:checked~label.sk-toggleable__label-arrow:before {content: \"▾\";}#sk-container-id-2 div.sk-estimator input.sk-toggleable__control:checked~label.sk-toggleable__label {background-color: #d4ebff;}#sk-container-id-2 div.sk-label input.sk-toggleable__control:checked~label.sk-toggleable__label {background-color: #d4ebff;}#sk-container-id-2 input.sk-hidden--visually {border: 0;clip: rect(1px 1px 1px 1px);clip: rect(1px, 1px, 1px, 1px);height: 1px;margin: -1px;overflow: hidden;padding: 0;position: absolute;width: 1px;}#sk-container-id-2 div.sk-estimator {font-family: monospace;background-color: #f0f8ff;border: 1px dotted black;border-radius: 0.25em;box-sizing: border-box;margin-bottom: 0.5em;}#sk-container-id-2 div.sk-estimator:hover {background-color: #d4ebff;}#sk-container-id-2 div.sk-parallel-item::after {content: \"\";width: 100%;border-bottom: 1px solid gray;flex-grow: 1;}#sk-container-id-2 div.sk-label:hover label.sk-toggleable__label {background-color: #d4ebff;}#sk-container-id-2 div.sk-serial::before {content: \"\";position: absolute;border-left: 1px solid gray;box-sizing: border-box;top: 0;bottom: 0;left: 50%;z-index: 0;}#sk-container-id-2 div.sk-serial {display: flex;flex-direction: column;align-items: center;background-color: white;padding-right: 0.2em;padding-left: 0.2em;position: relative;}#sk-container-id-2 div.sk-item {position: relative;z-index: 1;}#sk-container-id-2 div.sk-parallel {display: flex;align-items: stretch;justify-content: center;background-color: white;position: relative;}#sk-container-id-2 div.sk-item::before, #sk-container-id-2 div.sk-parallel-item::before {content: \"\";position: absolute;border-left: 1px solid gray;box-sizing: border-box;top: 0;bottom: 0;left: 50%;z-index: -1;}#sk-container-id-2 div.sk-parallel-item {display: flex;flex-direction: column;z-index: 1;position: relative;background-color: white;}#sk-container-id-2 div.sk-parallel-item:first-child::after {align-self: flex-end;width: 50%;}#sk-container-id-2 div.sk-parallel-item:last-child::after {align-self: flex-start;width: 50%;}#sk-container-id-2 div.sk-parallel-item:only-child::after {width: 0;}#sk-container-id-2 div.sk-dashed-wrapped {border: 1px dashed gray;margin: 0 0.4em 0.5em 0.4em;box-sizing: border-box;padding-bottom: 0.4em;background-color: white;}#sk-container-id-2 div.sk-label label {font-family: monospace;font-weight: bold;display: inline-block;line-height: 1.2em;}#sk-container-id-2 div.sk-label-container {text-align: center;}#sk-container-id-2 div.sk-container {/* jupyter's `normalize.less` sets `[hidden] { display: none; }` but bootstrap.min.css set `[hidden] { display: none !important; }` so we also need the `!important` here to be able to override the default hidden behavior on the sphinx rendered scikit-learn.org. See: https://github.com/scikit-learn/scikit-learn/issues/21755 */display: inline-block !important;position: relative;}#sk-container-id-2 div.sk-text-repr-fallback {display: none;}</style><div id=\"sk-container-id-2\" class=\"sk-top-container\"><div class=\"sk-text-repr-fallback\"><pre>DecisionTreeClassifier(random_state=100)</pre><b>In a Jupyter environment, please rerun this cell to show the HTML representation or trust the notebook. <br />On GitHub, the HTML representation is unable to render, please try loading this page with nbviewer.org.</b></div><div class=\"sk-container\" hidden><div class=\"sk-item\"><div class=\"sk-estimator sk-toggleable\"><input class=\"sk-toggleable__control sk-hidden--visually\" id=\"sk-estimator-id-2\" type=\"checkbox\" checked><label for=\"sk-estimator-id-2\" class=\"sk-toggleable__label sk-toggleable__label-arrow\">DecisionTreeClassifier</label><div class=\"sk-toggleable__content\"><pre>DecisionTreeClassifier(random_state=100)</pre></div></div></div></div></div>"
      ],
      "text/plain": [
       "DecisionTreeClassifier(random_state=100)"
      ]
     },
     "execution_count": 8,
     "metadata": {},
     "output_type": "execute_result"
    }
   ],
   "source": [
    "clf = clf.fit(X=X_train, \n",
    "              y=y_train)\n",
    "clf"
   ]
  },
  {
   "cell_type": "code",
   "execution_count": 9,
   "metadata": {},
   "outputs": [
    {
     "ename": "InvalidParameterError",
     "evalue": "The 'feature_names' parameter of plot_tree must be an instance of 'list' or None. Got Index(['qtd_filhos', 'idade', 'tempo_emprego', 'possui_celular',\n       'possui_fone_comercial', 'possui_fone', 'possui_email',\n       'qt_pessoas_residencia', 'sexo_M', 'posse_de_veiculo_Y',\n       'posse_de_imovel_Y', 'tipo_renda_Commercial associate',\n       'tipo_renda_Pensioner', 'tipo_renda_State servant',\n       'tipo_renda_Student', 'tipo_renda_Working', 'educacao_Academic degree',\n       'educacao_Higher education', 'educacao_Incomplete higher',\n       'educacao_Lower secondary', 'educacao_Secondary / secondary special',\n       'estado_civil_Civil marriage', 'estado_civil_Married',\n       'estado_civil_Separated', 'estado_civil_Single / not married',\n       'estado_civil_Widow', 'tipo_residencia_Co-op apartment',\n       'tipo_residencia_House / apartment',\n       'tipo_residencia_Municipal apartment',\n       'tipo_residencia_Office apartment', 'tipo_residencia_Rented apartment',\n       'tipo_residencia_With parents'],\n      dtype='object') instead.",
     "output_type": "error",
     "traceback": [
      "\u001b[1;31m---------------------------------------------------------------------------\u001b[0m",
      "\u001b[1;31mInvalidParameterError\u001b[0m                     Traceback (most recent call last)",
      "Cell \u001b[1;32mIn[9], line 2\u001b[0m\n\u001b[0;32m      1\u001b[0m plt\u001b[38;5;241m.\u001b[39mfigure(figsize\u001b[38;5;241m=\u001b[39m(\u001b[38;5;241m12\u001b[39m,\u001b[38;5;241m12\u001b[39m))\n\u001b[1;32m----> 2\u001b[0m plot_tree(decision_tree\u001b[38;5;241m=\u001b[39mclf,\n\u001b[0;32m      3\u001b[0m           class_names\u001b[38;5;241m=\u001b[39m[\u001b[38;5;124m'\u001b[39m\u001b[38;5;124mbons\u001b[39m\u001b[38;5;124m'\u001b[39m, \u001b[38;5;124m'\u001b[39m\u001b[38;5;124mmaus\u001b[39m\u001b[38;5;124m'\u001b[39m],\n\u001b[0;32m      4\u001b[0m           filled\u001b[38;5;241m=\u001b[39m\u001b[38;5;28;01mTrue\u001b[39;00m, \n\u001b[0;32m      5\u001b[0m           rounded\u001b[38;5;241m=\u001b[39m\u001b[38;5;28;01mTrue\u001b[39;00m,\n\u001b[0;32m      6\u001b[0m           feature_names\u001b[38;5;241m=\u001b[39m X_train\u001b[38;5;241m.\u001b[39mcolumns)\n\u001b[0;32m      8\u001b[0m plt\u001b[38;5;241m.\u001b[39mshow()\n",
      "File \u001b[1;32m~\\anaconda3\\Lib\\site-packages\\sklearn\\utils\\_param_validation.py:201\u001b[0m, in \u001b[0;36mvalidate_params.<locals>.decorator.<locals>.wrapper\u001b[1;34m(*args, **kwargs)\u001b[0m\n\u001b[0;32m    198\u001b[0m to_ignore \u001b[38;5;241m+\u001b[39m\u001b[38;5;241m=\u001b[39m [\u001b[38;5;124m\"\u001b[39m\u001b[38;5;124mself\u001b[39m\u001b[38;5;124m\"\u001b[39m, \u001b[38;5;124m\"\u001b[39m\u001b[38;5;124mcls\u001b[39m\u001b[38;5;124m\"\u001b[39m]\n\u001b[0;32m    199\u001b[0m params \u001b[38;5;241m=\u001b[39m {k: v \u001b[38;5;28;01mfor\u001b[39;00m k, v \u001b[38;5;129;01min\u001b[39;00m params\u001b[38;5;241m.\u001b[39marguments\u001b[38;5;241m.\u001b[39mitems() \u001b[38;5;28;01mif\u001b[39;00m k \u001b[38;5;129;01mnot\u001b[39;00m \u001b[38;5;129;01min\u001b[39;00m to_ignore}\n\u001b[1;32m--> 201\u001b[0m validate_parameter_constraints(\n\u001b[0;32m    202\u001b[0m     parameter_constraints, params, caller_name\u001b[38;5;241m=\u001b[39mfunc\u001b[38;5;241m.\u001b[39m\u001b[38;5;18m__qualname__\u001b[39m\n\u001b[0;32m    203\u001b[0m )\n\u001b[0;32m    205\u001b[0m \u001b[38;5;28;01mtry\u001b[39;00m:\n\u001b[0;32m    206\u001b[0m     \u001b[38;5;28;01mwith\u001b[39;00m config_context(\n\u001b[0;32m    207\u001b[0m         skip_parameter_validation\u001b[38;5;241m=\u001b[39m(\n\u001b[0;32m    208\u001b[0m             prefer_skip_nested_validation \u001b[38;5;129;01mor\u001b[39;00m global_skip_validation\n\u001b[0;32m    209\u001b[0m         )\n\u001b[0;32m    210\u001b[0m     ):\n",
      "File \u001b[1;32m~\\anaconda3\\Lib\\site-packages\\sklearn\\utils\\_param_validation.py:95\u001b[0m, in \u001b[0;36mvalidate_parameter_constraints\u001b[1;34m(parameter_constraints, params, caller_name)\u001b[0m\n\u001b[0;32m     89\u001b[0m \u001b[38;5;28;01melse\u001b[39;00m:\n\u001b[0;32m     90\u001b[0m     constraints_str \u001b[38;5;241m=\u001b[39m (\n\u001b[0;32m     91\u001b[0m         \u001b[38;5;124mf\u001b[39m\u001b[38;5;124m\"\u001b[39m\u001b[38;5;132;01m{\u001b[39;00m\u001b[38;5;124m'\u001b[39m\u001b[38;5;124m, \u001b[39m\u001b[38;5;124m'\u001b[39m\u001b[38;5;241m.\u001b[39mjoin([\u001b[38;5;28mstr\u001b[39m(c)\u001b[38;5;250m \u001b[39m\u001b[38;5;28;01mfor\u001b[39;00m\u001b[38;5;250m \u001b[39mc\u001b[38;5;250m \u001b[39m\u001b[38;5;129;01min\u001b[39;00m\u001b[38;5;250m \u001b[39mconstraints[:\u001b[38;5;241m-\u001b[39m\u001b[38;5;241m1\u001b[39m]])\u001b[38;5;132;01m}\u001b[39;00m\u001b[38;5;124m or\u001b[39m\u001b[38;5;124m\"\u001b[39m\n\u001b[0;32m     92\u001b[0m         \u001b[38;5;124mf\u001b[39m\u001b[38;5;124m\"\u001b[39m\u001b[38;5;124m \u001b[39m\u001b[38;5;132;01m{\u001b[39;00mconstraints[\u001b[38;5;241m-\u001b[39m\u001b[38;5;241m1\u001b[39m]\u001b[38;5;132;01m}\u001b[39;00m\u001b[38;5;124m\"\u001b[39m\n\u001b[0;32m     93\u001b[0m     )\n\u001b[1;32m---> 95\u001b[0m \u001b[38;5;28;01mraise\u001b[39;00m InvalidParameterError(\n\u001b[0;32m     96\u001b[0m     \u001b[38;5;124mf\u001b[39m\u001b[38;5;124m\"\u001b[39m\u001b[38;5;124mThe \u001b[39m\u001b[38;5;132;01m{\u001b[39;00mparam_name\u001b[38;5;132;01m!r}\u001b[39;00m\u001b[38;5;124m parameter of \u001b[39m\u001b[38;5;132;01m{\u001b[39;00mcaller_name\u001b[38;5;132;01m}\u001b[39;00m\u001b[38;5;124m must be\u001b[39m\u001b[38;5;124m\"\u001b[39m\n\u001b[0;32m     97\u001b[0m     \u001b[38;5;124mf\u001b[39m\u001b[38;5;124m\"\u001b[39m\u001b[38;5;124m \u001b[39m\u001b[38;5;132;01m{\u001b[39;00mconstraints_str\u001b[38;5;132;01m}\u001b[39;00m\u001b[38;5;124m. Got \u001b[39m\u001b[38;5;132;01m{\u001b[39;00mparam_val\u001b[38;5;132;01m!r}\u001b[39;00m\u001b[38;5;124m instead.\u001b[39m\u001b[38;5;124m\"\u001b[39m\n\u001b[0;32m     98\u001b[0m )\n",
      "\u001b[1;31mInvalidParameterError\u001b[0m: The 'feature_names' parameter of plot_tree must be an instance of 'list' or None. Got Index(['qtd_filhos', 'idade', 'tempo_emprego', 'possui_celular',\n       'possui_fone_comercial', 'possui_fone', 'possui_email',\n       'qt_pessoas_residencia', 'sexo_M', 'posse_de_veiculo_Y',\n       'posse_de_imovel_Y', 'tipo_renda_Commercial associate',\n       'tipo_renda_Pensioner', 'tipo_renda_State servant',\n       'tipo_renda_Student', 'tipo_renda_Working', 'educacao_Academic degree',\n       'educacao_Higher education', 'educacao_Incomplete higher',\n       'educacao_Lower secondary', 'educacao_Secondary / secondary special',\n       'estado_civil_Civil marriage', 'estado_civil_Married',\n       'estado_civil_Separated', 'estado_civil_Single / not married',\n       'estado_civil_Widow', 'tipo_residencia_Co-op apartment',\n       'tipo_residencia_House / apartment',\n       'tipo_residencia_Municipal apartment',\n       'tipo_residencia_Office apartment', 'tipo_residencia_Rented apartment',\n       'tipo_residencia_With parents'],\n      dtype='object') instead."
     ]
    },
    {
     "data": {
      "text/plain": [
       "<Figure size 1200x1200 with 0 Axes>"
      ]
     },
     "metadata": {},
     "output_type": "display_data"
    }
   ],
   "source": [
    "plt.figure(figsize=(12,12))\n",
    "plot_tree(decision_tree=clf,\n",
    "          class_names=['bons', 'maus'],\n",
    "          filled=True, \n",
    "          rounded=True,\n",
    "          feature_names= X_train.columns)\n",
    "\n",
    "plt.show()"
   ]
  },
  {
   "cell_type": "code",
   "execution_count": 10,
   "metadata": {},
   "outputs": [
    {
     "data": {
      "text/plain": [
       "<Figure size 2000x2000 with 0 Axes>"
      ]
     },
     "metadata": {},
     "output_type": "display_data"
    },
    {
     "data": {
      "image/png": "[encoded data removed]",
      "text/plain": [
       "<Figure size 640x480 with 2 Axes>"
      ]
     },
     "metadata": {},
     "output_type": "display_data"
    }
   ],
   "source": [
    "plt.figure(figsize=(20, 20))\n",
    "ConfusionMatrixDisplay.from_estimator(clf, X_train,y_train, display_labels=['bons', 'maus']);\n",
    "plt.show()"
   ]
  },
  {
   "cell_type": "code",
   "execution_count": 11,
   "metadata": {},
   "outputs": [
    {
     "data": {
      "image/png": "[encoded data removed]",
      "text/plain": [
       "<Figure size 640x480 with 2 Axes>"
      ]
     },
     "metadata": {},
     "output_type": "display_data"
    }
   ],
   "source": [
    "ConfusionMatrixDisplay.from_estimator(estimator=clf, \n",
    "                                      X=X_train, \n",
    "                                      y=y_train, \n",
    "                                      display_labels=['aprovados', 'reprovados'])\n",
    "\n",
    "plt.show()"
   ]
  },
  {
   "cell_type": "code",
   "execution_count": 12,
   "metadata": {},
   "outputs": [
    {
     "name": "stdout",
     "output_type": "stream",
     "text": [
      "Acurácia na base de treinamento:\n"
     ]
    },
    {
     "data": {
      "text/plain": [
       "0.9852289512555391"
      ]
     },
     "execution_count": 12,
     "metadata": {},
     "output_type": "execute_result"
    }
   ],
   "source": [
    "print('Acurácia na base de treinamento:')\n",
    "predict_train = clf.predict(X=X_train)\n",
    "accuracy_score(y_true=y_train, \n",
    "               y_pred=predict_train)"
   ]
  },
  {
   "cell_type": "markdown",
   "metadata": {},
   "source": [
    "#### 3) Vamos avaliar o modelo na base de testes\n",
    "\n",
    "1. Classifique a base de teste de acordo com a árvore que você treinou no item 2.\n",
    "2. Produza a visualização da matriz de confusão para a base de teste.\n",
    "3. Calcule a acurácia da base de teste. Compare com a acurácia da base de treinamento.\n",
    "4. Treine uma nova árvore com número mínimo de observações por folha de 5 e máximo de profundidade de 10. Use o random_state = 123. Avalie a matriz de classificação. Observe a distribuição da predição - qual a proporção de proponentes foram classificados como 'maus'?\n",
    "5. Como ficaria a acurácia se você classificasse todos os contratos como 'bons'?"
   ]
  },
  {
   "cell_type": "code",
   "execution_count": 9,
   "metadata": {},
   "outputs": [
    {
     "name": "stdout",
     "output_type": "stream",
     "text": [
      "Valores preditos:\n",
      "False    1930\n",
      "True      101\n",
      "Name: count, dtype: int64 \n",
      "\n",
      "Valores reais:\n",
      "mau\n",
      "False    1944\n",
      "True       87\n",
      "Name: count, dtype: int64\n"
     ]
    }
   ],
   "source": [
    "predict_test = clf.predict(X=X_test)\n",
    "\n",
    "print('Valores preditos:') \n",
    "print(pd.Series(predict_test).value_counts(), '\\n')\n",
    "\n",
    "print('Valores reais:')\n",
    "print(y_test.value_counts())"
   ]
  },
  {
   "cell_type": "code",
   "execution_count": 10,
   "metadata": {},
   "outputs": [
    {
     "data": {
      "image/png": "[encoded data removed]",
      "text/plain": [
       "<Figure size 640x480 with 2 Axes>"
      ]
     },
     "metadata": {},
     "output_type": "display_data"
    }
   ],
   "source": [
    "ConfusionMatrixDisplay.from_estimator(estimator=clf, \n",
    "                                      X=X_test, \n",
    "                                      y=y_test, \n",
    "                                      display_labels=['aprovados', 'reprovados'])\n",
    "\n",
    "plt.show()"
   ]
  },
  {
   "cell_type": "code",
   "execution_count": 11,
   "metadata": {},
   "outputs": [
    {
     "name": "stdout",
     "output_type": "stream",
     "text": [
      "Acurácia da base de teste: 0.9182668636139832 \n",
      "\n",
      "Acurácia da base de treinamento: 0.9852289512555391\n"
     ]
    }
   ],
   "source": [
    "print('Acurácia da base de teste:', \n",
    "      accuracy_score(y_true=y_test, \n",
    "                     y_pred=predict_test), '\\n')\n",
    "\n",
    "print('Acurácia da base de treinamento:', \n",
    "      accuracy_score(y_true=y_train, \n",
    "                     y_pred=predict_train))"
   ]
  },
  {
   "cell_type": "code",
   "execution_count": 12,
   "metadata": {},
   "outputs": [],
   "source": [
    "nova_clf = DecisionTreeClassifier(max_depth=10, \n",
    "                                  min_samples_leaf=5, \n",
    "                                  random_state=123)\n",
    "nova_clf = nova_clf.fit(X=X_train, \n",
    "                        y=y_train)"
   ]
  },
  {
   "cell_type": "code",
   "execution_count": 13,
   "metadata": {},
   "outputs": [
    {
     "data": {
      "image/png": "[encoded data removed]",
      "text/plain": [
       "<Figure size 1000x1000 with 8 Axes>"
      ]
     },
     "metadata": {},
     "output_type": "display_data"
    }
   ],
   "source": [
    "fig, axes = plt.subplots(nrows=2, \n",
    "                         ncols=2, \n",
    "                         figsize=(10,10))\n",
    "fig.subplots_adjust(wspace=0.5)\n",
    "\n",
    "ConfusionMatrixDisplay.from_estimator(estimator=nova_clf, \n",
    "                                      X=X_test, \n",
    "                                      y=y_test, \n",
    "                                      display_labels=['bons', 'maus'], \n",
    "                                      normalize=None, \n",
    "                                      ax=axes[0,0])\n",
    "axes[0,0].set_title(label=\"normalize=None\")\n",
    "\n",
    "ConfusionMatrixDisplay.from_estimator(estimator=nova_clf, \n",
    "                                      X=X_test, \n",
    "                                      y=y_test, \n",
    "                                      display_labels=['bons', 'maus'], \n",
    "                                      normalize='true', \n",
    "                                      ax=axes[0,1])\n",
    "axes[0,1].set_title(label=\"normalize='true'\")\n",
    "\n",
    "ConfusionMatrixDisplay.from_estimator(estimator=nova_clf, \n",
    "                                      X=X_test, \n",
    "                                      y=y_test, \n",
    "                                      display_labels=['bons', 'maus'], \n",
    "                                      normalize='pred', \n",
    "                                      ax=axes[1,0])\n",
    "axes[1,0].set_title(label=\"normalize='pred'\")\n",
    "\n",
    "ConfusionMatrixDisplay.from_estimator(estimator=nova_clf, \n",
    "                                      X=X_test, \n",
    "                                      y=y_test, \n",
    "                                      display_labels=['bons', 'maus'], \n",
    "                                      normalize='all', \n",
    "                                      ax=axes[1,1])\n",
    "axes[1,1].set_title(label=\"normalize='all'\")\n",
    "\n",
    "plt.show()"
   ]
  },
  {
   "cell_type": "code",
   "execution_count": 14,
   "metadata": {},
   "outputs": [
    {
     "name": "stdout",
     "output_type": "stream",
     "text": [
      "Proporção de proponentes classificados como 'maus': 0.34 %\n"
     ]
    }
   ],
   "source": [
    "print(\"Proporção de proponentes classificados como 'maus':\",\n",
    "      round(7/(1937+87+7)*100, 2), \n",
    "      '%')"
   ]
  },
  {
   "cell_type": "code",
   "execution_count": 15,
   "metadata": {},
   "outputs": [
    {
     "name": "stdout",
     "output_type": "stream",
     "text": [
      "Valores reais:\n",
      "mau\n",
      "False    1944\n",
      "True       87\n",
      "Name: count, dtype: int64 \n",
      "\n",
      "Todos os contratos da base teste classificados como 'bons':\n",
      "mau\n",
      "False    2031\n",
      "Name: count, dtype: int64 \n",
      "\n",
      "Acurácia: 95.72 %\n"
     ]
    }
   ],
   "source": [
    "print(\"Valores reais:\")\n",
    "print(pd.Series(y_test).value_counts(), \n",
    "      '\\n')\n",
    "\n",
    "print(\"Todos os contratos da base teste classificados como 'bons':\")\n",
    "print(pd.Series(y_test.replace(to_replace=True, \n",
    "                               value=False)\n",
    "               ).value_counts(), \n",
    "      '\\n')\n",
    "\n",
    "print('Acurácia:', \n",
    "      round(accuracy_score(y_true=y_test, \n",
    "                           y_pred=y_test.replace(to_replace=True, \n",
    "                                                 value=False)\n",
    "                          ) * 100,\n",
    "            2), \n",
    "      '%')"
   ]
  },
  {
   "cell_type": "code",
   "execution_count": null,
   "metadata": {},
   "outputs": [],
   "source": []
  },
  {
   "cell_type": "code",
   "execution_count": null,
   "metadata": {},
   "outputs": [],
   "source": []
  }
 ],
 "metadata": {
  "kernelspec": {
   "display_name": "Python 3 (ipykernel)",
   "language": "python",
   "name": "python3"
  },
  "language_info": {
   "codemirror_mode": {
    "name": "ipython",
    "version": 3
   },
   "file_extension": ".py",
   "mimetype": "text/x-python",
   "name": "python",
   "nbconvert_exporter": "python",
   "pygments_lexer": "ipython3",
   "version": "3.11.5"
  }
 },
 "nbformat": 4,
 "nbformat_minor": 4
}
